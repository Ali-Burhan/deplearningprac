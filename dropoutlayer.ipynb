{
 "cells": [
  {
   "cell_type": "code",
   "execution_count": 1,
   "metadata": {},
   "outputs": [],
   "source": [
    "import pandas as pd"
   ]
  },
  {
   "cell_type": "code",
   "execution_count": 2,
   "metadata": {},
   "outputs": [],
   "source": [
    "x = pd.read_csv('xpracdata.csv')\n",
    "y = pd.read_csv('ypracdata.csv')"
   ]
  },
  {
   "cell_type": "code",
   "execution_count": 7,
   "metadata": {},
   "outputs": [],
   "source": [
    "from sklearn.preprocessing import StandardScaler\n",
    "import tensorflow\n",
    "from tensorflow.keras import Sequential\n",
    "from tensorflow.keras.layers import Dense, Dropout"
   ]
  },
  {
   "cell_type": "code",
   "execution_count": 19,
   "metadata": {},
   "outputs": [],
   "source": [
    "x_scaled = StandardScaler().fit_transform(x)"
   ]
  },
  {
   "cell_type": "code",
   "execution_count": 24,
   "metadata": {},
   "outputs": [],
   "source": [
    "y.drop(columns=['Unnamed: 0'],inplace=True)"
   ]
  },
  {
   "cell_type": "code",
   "execution_count": 8,
   "metadata": {},
   "outputs": [],
   "source": [
    "model = Sequential()"
   ]
  },
  {
   "cell_type": "code",
   "execution_count": 9,
   "metadata": {},
   "outputs": [
    {
     "name": "stderr",
     "output_type": "stream",
     "text": [
      "c:\\Users\\qaise\\AppData\\Local\\Programs\\Python\\Python311\\Lib\\site-packages\\keras\\src\\layers\\core\\dense.py:88: UserWarning: Do not pass an `input_shape`/`input_dim` argument to a layer. When using Sequential models, prefer using an `Input(shape)` object as the first layer in the model instead.\n",
      "  super().__init__(activity_regularizer=activity_regularizer, **kwargs)\n"
     ]
    }
   ],
   "source": [
    "model.add(Dense(5,input_dim=5,activation='relu'))\n",
    "model.add(Dense(128,activation='relu'))\n",
    "model.add(Dropout(0.5))\n",
    "model.add(Dense(128,activation='relu'))\n",
    "model.add(Dense(1,activation='sigmoid'))"
   ]
  },
  {
   "cell_type": "code",
   "execution_count": 10,
   "metadata": {},
   "outputs": [
    {
     "data": {
      "text/html": [
       "<pre style=\"white-space:pre;overflow-x:auto;line-height:normal;font-family:Menlo,'DejaVu Sans Mono',consolas,'Courier New',monospace\"><span style=\"font-weight: bold\">Model: \"sequential\"</span>\n",
       "</pre>\n"
      ],
      "text/plain": [
       "\u001b[1mModel: \"sequential\"\u001b[0m\n"
      ]
     },
     "metadata": {},
     "output_type": "display_data"
    },
    {
     "data": {
      "text/html": [
       "<pre style=\"white-space:pre;overflow-x:auto;line-height:normal;font-family:Menlo,'DejaVu Sans Mono',consolas,'Courier New',monospace\">┏━━━━━━━━━━━━━━━━━━━━━━━━━━━━━━━━━┳━━━━━━━━━━━━━━━━━━━━━━━━┳━━━━━━━━━━━━━━━┓\n",
       "┃<span style=\"font-weight: bold\"> Layer (type)                    </span>┃<span style=\"font-weight: bold\"> Output Shape           </span>┃<span style=\"font-weight: bold\">       Param # </span>┃\n",
       "┡━━━━━━━━━━━━━━━━━━━━━━━━━━━━━━━━━╇━━━━━━━━━━━━━━━━━━━━━━━━╇━━━━━━━━━━━━━━━┩\n",
       "│ dense (<span style=\"color: #0087ff; text-decoration-color: #0087ff\">Dense</span>)                   │ (<span style=\"color: #00d7ff; text-decoration-color: #00d7ff\">None</span>, <span style=\"color: #00af00; text-decoration-color: #00af00\">5</span>)              │            <span style=\"color: #00af00; text-decoration-color: #00af00\">30</span> │\n",
       "├─────────────────────────────────┼────────────────────────┼───────────────┤\n",
       "│ dense_1 (<span style=\"color: #0087ff; text-decoration-color: #0087ff\">Dense</span>)                 │ (<span style=\"color: #00d7ff; text-decoration-color: #00d7ff\">None</span>, <span style=\"color: #00af00; text-decoration-color: #00af00\">128</span>)            │           <span style=\"color: #00af00; text-decoration-color: #00af00\">768</span> │\n",
       "├─────────────────────────────────┼────────────────────────┼───────────────┤\n",
       "│ dropout (<span style=\"color: #0087ff; text-decoration-color: #0087ff\">Dropout</span>)               │ (<span style=\"color: #00d7ff; text-decoration-color: #00d7ff\">None</span>, <span style=\"color: #00af00; text-decoration-color: #00af00\">128</span>)            │             <span style=\"color: #00af00; text-decoration-color: #00af00\">0</span> │\n",
       "├─────────────────────────────────┼────────────────────────┼───────────────┤\n",
       "│ dense_2 (<span style=\"color: #0087ff; text-decoration-color: #0087ff\">Dense</span>)                 │ (<span style=\"color: #00d7ff; text-decoration-color: #00d7ff\">None</span>, <span style=\"color: #00af00; text-decoration-color: #00af00\">128</span>)            │        <span style=\"color: #00af00; text-decoration-color: #00af00\">16,512</span> │\n",
       "├─────────────────────────────────┼────────────────────────┼───────────────┤\n",
       "│ dense_3 (<span style=\"color: #0087ff; text-decoration-color: #0087ff\">Dense</span>)                 │ (<span style=\"color: #00d7ff; text-decoration-color: #00d7ff\">None</span>, <span style=\"color: #00af00; text-decoration-color: #00af00\">1</span>)              │           <span style=\"color: #00af00; text-decoration-color: #00af00\">129</span> │\n",
       "└─────────────────────────────────┴────────────────────────┴───────────────┘\n",
       "</pre>\n"
      ],
      "text/plain": [
       "┏━━━━━━━━━━━━━━━━━━━━━━━━━━━━━━━━━┳━━━━━━━━━━━━━━━━━━━━━━━━┳━━━━━━━━━━━━━━━┓\n",
       "┃\u001b[1m \u001b[0m\u001b[1mLayer (type)                   \u001b[0m\u001b[1m \u001b[0m┃\u001b[1m \u001b[0m\u001b[1mOutput Shape          \u001b[0m\u001b[1m \u001b[0m┃\u001b[1m \u001b[0m\u001b[1m      Param #\u001b[0m\u001b[1m \u001b[0m┃\n",
       "┡━━━━━━━━━━━━━━━━━━━━━━━━━━━━━━━━━╇━━━━━━━━━━━━━━━━━━━━━━━━╇━━━━━━━━━━━━━━━┩\n",
       "│ dense (\u001b[38;5;33mDense\u001b[0m)                   │ (\u001b[38;5;45mNone\u001b[0m, \u001b[38;5;34m5\u001b[0m)              │            \u001b[38;5;34m30\u001b[0m │\n",
       "├─────────────────────────────────┼────────────────────────┼───────────────┤\n",
       "│ dense_1 (\u001b[38;5;33mDense\u001b[0m)                 │ (\u001b[38;5;45mNone\u001b[0m, \u001b[38;5;34m128\u001b[0m)            │           \u001b[38;5;34m768\u001b[0m │\n",
       "├─────────────────────────────────┼────────────────────────┼───────────────┤\n",
       "│ dropout (\u001b[38;5;33mDropout\u001b[0m)               │ (\u001b[38;5;45mNone\u001b[0m, \u001b[38;5;34m128\u001b[0m)            │             \u001b[38;5;34m0\u001b[0m │\n",
       "├─────────────────────────────────┼────────────────────────┼───────────────┤\n",
       "│ dense_2 (\u001b[38;5;33mDense\u001b[0m)                 │ (\u001b[38;5;45mNone\u001b[0m, \u001b[38;5;34m128\u001b[0m)            │        \u001b[38;5;34m16,512\u001b[0m │\n",
       "├─────────────────────────────────┼────────────────────────┼───────────────┤\n",
       "│ dense_3 (\u001b[38;5;33mDense\u001b[0m)                 │ (\u001b[38;5;45mNone\u001b[0m, \u001b[38;5;34m1\u001b[0m)              │           \u001b[38;5;34m129\u001b[0m │\n",
       "└─────────────────────────────────┴────────────────────────┴───────────────┘\n"
      ]
     },
     "metadata": {},
     "output_type": "display_data"
    },
    {
     "data": {
      "text/html": [
       "<pre style=\"white-space:pre;overflow-x:auto;line-height:normal;font-family:Menlo,'DejaVu Sans Mono',consolas,'Courier New',monospace\"><span style=\"font-weight: bold\"> Total params: </span><span style=\"color: #00af00; text-decoration-color: #00af00\">17,439</span> (68.12 KB)\n",
       "</pre>\n"
      ],
      "text/plain": [
       "\u001b[1m Total params: \u001b[0m\u001b[38;5;34m17,439\u001b[0m (68.12 KB)\n"
      ]
     },
     "metadata": {},
     "output_type": "display_data"
    },
    {
     "data": {
      "text/html": [
       "<pre style=\"white-space:pre;overflow-x:auto;line-height:normal;font-family:Menlo,'DejaVu Sans Mono',consolas,'Courier New',monospace\"><span style=\"font-weight: bold\"> Trainable params: </span><span style=\"color: #00af00; text-decoration-color: #00af00\">17,439</span> (68.12 KB)\n",
       "</pre>\n"
      ],
      "text/plain": [
       "\u001b[1m Trainable params: \u001b[0m\u001b[38;5;34m17,439\u001b[0m (68.12 KB)\n"
      ]
     },
     "metadata": {},
     "output_type": "display_data"
    },
    {
     "data": {
      "text/html": [
       "<pre style=\"white-space:pre;overflow-x:auto;line-height:normal;font-family:Menlo,'DejaVu Sans Mono',consolas,'Courier New',monospace\"><span style=\"font-weight: bold\"> Non-trainable params: </span><span style=\"color: #00af00; text-decoration-color: #00af00\">0</span> (0.00 B)\n",
       "</pre>\n"
      ],
      "text/plain": [
       "\u001b[1m Non-trainable params: \u001b[0m\u001b[38;5;34m0\u001b[0m (0.00 B)\n"
      ]
     },
     "metadata": {},
     "output_type": "display_data"
    }
   ],
   "source": [
    "model.summary()"
   ]
  },
  {
   "cell_type": "code",
   "execution_count": 11,
   "metadata": {},
   "outputs": [],
   "source": [
    "model.compile(loss='binary_crossentropy',optimizer='adam',metrics=['accuracy'])"
   ]
  },
  {
   "cell_type": "code",
   "execution_count": 12,
   "metadata": {},
   "outputs": [],
   "source": [
    "from sklearn.model_selection import train_test_split"
   ]
  },
  {
   "cell_type": "code",
   "execution_count": 25,
   "metadata": {},
   "outputs": [],
   "source": [
    "x_train, x_test, y_train, y_test = train_test_split(x_scaled,y,random_state=42,test_size=0.2)"
   ]
  },
  {
   "cell_type": "code",
   "execution_count": 37,
   "metadata": {},
   "outputs": [
    {
     "data": {
      "text/plain": [
       "array([[ 1.14560058,  0.60709838, -1.28707501,  0.92295821, -0.92295821],\n",
       "       [-0.47159984,  0.57219764, -0.30932466, -1.08347268,  1.08347268],\n",
       "       [-1.15846736,  0.64199912, -1.73150699,  0.92295821, -0.92295821],\n",
       "       [-0.01270447,  0.08358727,  0.93508488, -1.08347268,  1.08347268],\n",
       "       [-0.59923473,  1.02590727, -0.04266547,  0.92295821, -0.92295821],\n",
       "       [-0.50701299, -1.57419791,  1.11285767, -1.08347268,  1.08347268],\n",
       "       [ 0.93238392,  0.67689987, -0.48709745,  0.92295821, -0.92295821],\n",
       "       [ 0.44250204,  1.70647171, -1.90927978,  0.92295821, -0.92295821],\n",
       "       [ 0.71547839,  1.68902134,  1.11285767, -1.08347268,  1.08347268],\n",
       "       [ 0.07509063, -1.13793865,  1.29063047, -1.08347268,  1.08347268],\n",
       "       [-0.40077355, -0.82383198,  0.4906529 ,  0.92295821, -0.92295821],\n",
       "       [ 1.28503985, -0.35267198,  1.11285767, -1.08347268,  1.08347268],\n",
       "       [-0.44061334, -0.87618309,  0.6684257 , -1.08347268,  1.08347268],\n",
       "       [-0.54980388, -0.85873272,  0.22399372, -1.08347268,  1.08347268],\n",
       "       [-0.24731657, -0.4050231 ,  0.04622093,  0.92295821, -0.92295821],\n",
       "       [-0.14402822, -0.56207643,  0.93508488, -1.08347268,  1.08347268],\n",
       "       [ 0.03525084,  0.8339532 , -0.04266547,  0.92295821, -0.92295821],\n",
       "       [ 1.61556257, -0.47482458,  0.04622093, -1.08347268,  1.08347268],\n",
       "       [-1.23593362,  1.21786135,  0.04622093, -1.08347268,  1.08347268],\n",
       "       [-1.00574816,  0.43259468,  1.29063047, -1.08347268,  1.08347268],\n",
       "       [-1.83648159, -1.20774013,  0.13510732,  0.92295821, -0.92295821],\n",
       "       [ 1.02534344, -1.38224383, -0.04266547,  0.92295821, -0.92295821],\n",
       "       [ 0.9641082 ,  0.76415172, -0.30932466, -1.08347268,  1.08347268],\n",
       "       [-1.50448333, -0.84128235, -0.93152943, -1.08347268,  1.08347268],\n",
       "       [ 0.53103491,  0.95610579, -0.39821105,  0.92295821, -0.92295821],\n",
       "       [-1.44767474, -0.71912976,  0.75731209,  0.92295821, -0.92295821],\n",
       "       [ 0.51037724,  0.71180061,  1.11285767, -1.08347268,  1.08347268],\n",
       "       [ 0.23740089, -0.85873272,  0.93508488, -1.08347268,  1.08347268],\n",
       "       [-1.10977428,  1.44471616,  1.02397128, -1.08347268,  1.08347268],\n",
       "       [-2.00248072, -0.64932828,  0.5795393 , -1.08347268,  1.08347268],\n",
       "       [-0.48783087,  1.74137246,  0.04622093, -1.08347268,  1.08347268],\n",
       "       [ 1.80074382, -0.50972532,  0.93508488, -1.08347268,  1.08347268],\n",
       "       [ 0.46242194,  0.0661369 ,  0.13510732, -1.08347268,  1.08347268],\n",
       "       [-1.35471522, -1.55674754, -1.82039338,  0.92295821, -0.92295821],\n",
       "       [-0.40446242, -0.42247347, -1.64262059,  0.92295821, -0.92295821],\n",
       "       [ 0.21674322, -1.67890013, -1.4648478 ,  0.92295821, -0.92295821],\n",
       "       [ 1.86271683,  0.11848801, -1.5537342 , -1.08347268,  1.08347268],\n",
       "       [ 1.01427683, -0.50972532,  0.84619849, -1.08347268,  1.08347268],\n",
       "       [ 0.34585366, -0.5795268 , -1.82039338,  0.92295821, -0.92295821],\n",
       "       [ 0.68301634,  1.27021246,  0.4906529 ,  0.92295821, -0.92295821],\n",
       "       [-0.81392694,  1.14805986, -0.57598384, -1.08347268,  1.08347268],\n",
       "       [-0.144766  ,  0.50239616,  0.84619849,  0.92295821, -0.92295821],\n",
       "       [ 1.2555289 , -0.78893124, -1.90927978,  0.92295821, -0.92295821],\n",
       "       [-0.21854339, -0.91108384, -1.19818861,  0.92295821, -0.92295821],\n",
       "       [ 0.47348855, -0.50972532, -0.84264303,  0.92295821, -0.92295821],\n",
       "       [ 1.22528017,  1.42726579,  0.22399372,  0.92295821, -0.92295821],\n",
       "       [-0.39487136,  0.71180061,  0.31288011,  0.92295821, -0.92295821],\n",
       "       [ 0.51480388,  1.39236505, -0.04266547,  0.92295821, -0.92295821],\n",
       "       [-0.09017073,  1.42726579,  0.4906529 ,  0.92295821, -0.92295821],\n",
       "       [ 0.4041378 , -0.31777124, -1.90927978, -1.08347268,  1.08347268],\n",
       "       [-2.08437363, -1.13793865,  0.84619849,  0.92295821, -0.92295821],\n",
       "       [ 0.30453832, -1.64399939,  1.55728965, -1.08347268,  1.08347268],\n",
       "       [ 0.48160406,  0.15338876, -0.93152943,  0.92295821, -0.92295821],\n",
       "       [ 0.49488399,  1.56686875,  0.22399372, -1.08347268,  1.08347268],\n",
       "       [ 0.12083261,  1.40981542,  1.02397128, -1.08347268,  1.08347268],\n",
       "       [-0.22739668,  0.24064061, -0.75375664,  0.92295821, -0.92295821],\n",
       "       [ 1.02460566, -1.66144976, -1.5537342 ,  0.92295821, -0.92295821],\n",
       "       [ 0.10017494,  0.51984653,  0.13510732,  0.92295821, -0.92295821],\n",
       "       [-0.31888064, -0.77148087, -1.19818861,  0.92295821, -0.92295821],\n",
       "       [ 1.19429366, -0.85873272,  0.04622093, -1.08347268,  1.08347268],\n",
       "       [-1.20863599,  0.51984653, -1.82039338,  0.92295821, -0.92295821],\n",
       "       [-0.77998934,  0.78160209, -0.84264303, -1.08347268,  1.08347268],\n",
       "       [-2.0541249 , -1.0506868 ,  0.40176651,  0.92295821, -0.92295821],\n",
       "       [-0.20821456,  0.85140357,  0.75731209, -1.08347268,  1.08347268],\n",
       "       [-0.03778878, -0.92853421, -0.13155187,  0.92295821, -0.92295821],\n",
       "       [-0.63391011,  1.53196801,  1.20174407, -1.08347268,  1.08347268],\n",
       "       [-0.13517494, -0.85873272,  0.93508488, -1.08347268,  1.08347268],\n",
       "       [ 0.83204667, -1.27754161,  0.6684257 ,  0.92295821, -0.92295821],\n",
       "       [-1.46169244,  0.01378579,  0.84619849,  0.92295821, -0.92295821],\n",
       "       [ 0.47865296,  0.90375468, -0.48709745, -1.08347268,  1.08347268],\n",
       "       [ 1.18691592,  0.29299172,  1.29063047, -1.08347268,  1.08347268],\n",
       "       [-2.78452108,  0.41514431, -1.28707501,  0.92295821, -0.92295821],\n",
       "       [ 1.12789401, -0.56207643, -0.30932466, -1.08347268,  1.08347268],\n",
       "       [ 1.7505752 ,  0.57219764,  1.55728965,  0.92295821, -0.92295821],\n",
       "       [ 1.73655749,  1.4796169 ,  1.11285767,  0.92295821, -0.92295821],\n",
       "       [-0.41552903, -1.36479346, -0.66487024,  0.92295821, -0.92295821],\n",
       "       [ 1.81697485, -1.3996942 , -0.66487024,  0.92295821, -0.92295821],\n",
       "       [-1.79369071, -0.70167939, -1.4648478 ,  0.92295821, -0.92295821],\n",
       "       [-0.66194551, -1.36479346,  0.31288011, -1.08347268,  1.08347268],\n",
       "       [-0.3115029 , -1.29499198, -1.37596141,  0.92295821, -0.92295821]])"
      ]
     },
     "execution_count": 37,
     "metadata": {},
     "output_type": "execute_result"
    }
   ],
   "source": [
    "x_train"
   ]
  },
  {
   "cell_type": "code",
   "execution_count": 35,
   "metadata": {},
   "outputs": [
    {
     "data": {
      "text/html": [
       "<div>\n",
       "<style scoped>\n",
       "    .dataframe tbody tr th:only-of-type {\n",
       "        vertical-align: middle;\n",
       "    }\n",
       "\n",
       "    .dataframe tbody tr th {\n",
       "        vertical-align: top;\n",
       "    }\n",
       "\n",
       "    .dataframe thead th {\n",
       "        text-align: right;\n",
       "    }\n",
       "</style>\n",
       "<table border=\"1\" class=\"dataframe\">\n",
       "  <thead>\n",
       "    <tr style=\"text-align: right;\">\n",
       "      <th></th>\n",
       "      <th>Placement</th>\n",
       "    </tr>\n",
       "  </thead>\n",
       "  <tbody>\n",
       "    <tr>\n",
       "      <th>55</th>\n",
       "      <td>0</td>\n",
       "    </tr>\n",
       "    <tr>\n",
       "      <th>88</th>\n",
       "      <td>1</td>\n",
       "    </tr>\n",
       "    <tr>\n",
       "      <th>26</th>\n",
       "      <td>0</td>\n",
       "    </tr>\n",
       "    <tr>\n",
       "      <th>42</th>\n",
       "      <td>1</td>\n",
       "    </tr>\n",
       "    <tr>\n",
       "      <th>69</th>\n",
       "      <td>1</td>\n",
       "    </tr>\n",
       "  </tbody>\n",
       "</table>\n",
       "</div>"
      ],
      "text/plain": [
       "    Placement\n",
       "55          0\n",
       "88          1\n",
       "26          0\n",
       "42          1\n",
       "69          1"
      ]
     },
     "execution_count": 35,
     "metadata": {},
     "output_type": "execute_result"
    }
   ],
   "source": [
    "y_train.head()"
   ]
  },
  {
   "cell_type": "code",
   "execution_count": 36,
   "metadata": {},
   "outputs": [
    {
     "name": "stdout",
     "output_type": "stream",
     "text": [
      "Epoch 1/10\n"
     ]
    },
    {
     "ename": "AttributeError",
     "evalue": "'NoneType' object has no attribute 'items'",
     "output_type": "error",
     "traceback": [
      "\u001b[1;31m---------------------------------------------------------------------------\u001b[0m",
      "\u001b[1;31mAttributeError\u001b[0m                            Traceback (most recent call last)",
      "Cell \u001b[1;32mIn[36], line 1\u001b[0m\n\u001b[1;32m----> 1\u001b[0m \u001b[43mmodel\u001b[49m\u001b[38;5;241;43m.\u001b[39;49m\u001b[43mfit\u001b[49m\u001b[43m(\u001b[49m\u001b[43mx_train\u001b[49m\u001b[43m,\u001b[49m\u001b[43my_train\u001b[49m\u001b[43m,\u001b[49m\u001b[43mepochs\u001b[49m\u001b[38;5;241;43m=\u001b[39;49m\u001b[38;5;241;43m10\u001b[39;49m\u001b[43m)\u001b[49m\n",
      "File \u001b[1;32mc:\\Users\\qaise\\AppData\\Local\\Programs\\Python\\Python311\\Lib\\site-packages\\keras\\src\\utils\\traceback_utils.py:122\u001b[0m, in \u001b[0;36mfilter_traceback.<locals>.error_handler\u001b[1;34m(*args, **kwargs)\u001b[0m\n\u001b[0;32m    119\u001b[0m     filtered_tb \u001b[38;5;241m=\u001b[39m _process_traceback_frames(e\u001b[38;5;241m.\u001b[39m__traceback__)\n\u001b[0;32m    120\u001b[0m     \u001b[38;5;66;03m# To get the full stack trace, call:\u001b[39;00m\n\u001b[0;32m    121\u001b[0m     \u001b[38;5;66;03m# `keras.config.disable_traceback_filtering()`\u001b[39;00m\n\u001b[1;32m--> 122\u001b[0m     \u001b[38;5;28;01mraise\u001b[39;00m e\u001b[38;5;241m.\u001b[39mwith_traceback(filtered_tb) \u001b[38;5;28;01mfrom\u001b[39;00m \u001b[38;5;28;01mNone\u001b[39;00m\n\u001b[0;32m    123\u001b[0m \u001b[38;5;28;01mfinally\u001b[39;00m:\n\u001b[0;32m    124\u001b[0m     \u001b[38;5;28;01mdel\u001b[39;00m filtered_tb\n",
      "File \u001b[1;32mc:\\Users\\qaise\\AppData\\Local\\Programs\\Python\\Python311\\Lib\\site-packages\\keras\\src\\trainers\\trainer.py:855\u001b[0m, in \u001b[0;36mTrainer._pythonify_logs\u001b[1;34m(self, logs)\u001b[0m\n\u001b[0;32m    853\u001b[0m \u001b[38;5;28;01mdef\u001b[39;00m \u001b[38;5;21m_pythonify_logs\u001b[39m(\u001b[38;5;28mself\u001b[39m, logs):\n\u001b[0;32m    854\u001b[0m     result \u001b[38;5;241m=\u001b[39m {}\n\u001b[1;32m--> 855\u001b[0m     \u001b[38;5;28;01mfor\u001b[39;00m key, value \u001b[38;5;129;01min\u001b[39;00m \u001b[38;5;28msorted\u001b[39m(\u001b[43mlogs\u001b[49m\u001b[38;5;241;43m.\u001b[39;49m\u001b[43mitems\u001b[49m()):\n\u001b[0;32m    856\u001b[0m         \u001b[38;5;28;01mif\u001b[39;00m \u001b[38;5;28misinstance\u001b[39m(value, \u001b[38;5;28mdict\u001b[39m):\n\u001b[0;32m    857\u001b[0m             result\u001b[38;5;241m.\u001b[39mupdate(\u001b[38;5;28mself\u001b[39m\u001b[38;5;241m.\u001b[39m_pythonify_logs(value))\n",
      "\u001b[1;31mAttributeError\u001b[0m: 'NoneType' object has no attribute 'items'"
     ]
    }
   ],
   "source": [
    "model.fit(x_train,y_train,epochs=10)"
   ]
  }
 ],
 "metadata": {
  "kernelspec": {
   "display_name": "Python 3",
   "language": "python",
   "name": "python3"
  },
  "language_info": {
   "codemirror_mode": {
    "name": "ipython",
    "version": 3
   },
   "file_extension": ".py",
   "mimetype": "text/x-python",
   "name": "python",
   "nbconvert_exporter": "python",
   "pygments_lexer": "ipython3",
   "version": "3.11.3"
  }
 },
 "nbformat": 4,
 "nbformat_minor": 2
}
